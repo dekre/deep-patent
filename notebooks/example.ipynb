{
 "cells": [
  {
   "cell_type": "code",
   "execution_count": 1,
   "id": "cf53a57e-7d0d-4632-b4b1-5db127aac8e9",
   "metadata": {
    "canvas": {
     "comments": [],
     "componentType": "CodeCell",
     "copiedOriginId": null,
     "diskcache": false,
     "headerColor": "none",
     "id": "b50ec580-5eac-42e9-84bb-37c7f3a25390",
     "isComponent": false,
     "name": "",
     "parents": []
    },
    "tags": []
   },
   "outputs": [],
   "source": [
    "import sys\n",
    "from pathlib import Path\n",
    "\n",
    "import cv2\n",
    "import numpy as np\n",
    "import pandas as pd\n",
    "import torch\n",
    "\n",
    "sys.path.append(\"..\")\n",
    "\n",
    "from deep_patent.retrieve import compute_similarity_scores\n",
    "from deep_patent.utils import load_model\n",
    "from dirtorch.datasets.generic import ImageList"
   ]
  },
  {
   "cell_type": "code",
   "execution_count": 2,
   "id": "8ef20452-0a66-4e9f-a885-7e9aa62294f7",
   "metadata": {},
   "outputs": [],
   "source": [
    "DATASET_ROOT = \"../db/epo_samples/\"\n",
    "DB_IMAGE_LIST_PATH = \"../data/epo_db_samples.txt\"\n",
    "\n",
    "# model parameters\n",
    "THREADS = 8\n",
    "GEMP = 3\n",
    "POOLING = \"gem\"\n",
    "TRFS = \"\""
   ]
  },
  {
   "cell_type": "code",
   "execution_count": 3,
   "id": "3dd4017b-4fd3-4a9a-9181-3fd76d2d35c2",
   "metadata": {},
   "outputs": [],
   "source": [
    "QRY_IMAGES = [\n",
    "    \"CN_202474956_U_input.png\",\n",
    "    # \"I20181127/USD0834581-20181127/USD0834581-20181127-D00001.png\",\n",
    "    # \"I20181127/USD0834581-20181127/USD0834581-20181127-D00010.png\",\n",
    "    # \"I20180109/USD0807264-20180109/USD0807264-20180109-D00004.png\",\n",
    "    # \"I20180109/USD0807264-20180109/USD0807264-20180109-D00001.png\",\n",
    "    # \"I20190108/USD0837845-20190108/USD0837845-20190108-D00001.png \",\n",
    "    # \"I20190108/USD0837845-20190108/USD0837845-20190108-D00000.png \",\n",
    "    # \"I20180403/USD0814336-20180403/USD0814336-20180403-D00003.png \",\n",
    "    # \"I20180403/USD0814336-20180403/USD0814336-20180403-D00002.png \",\n",
    "    # \"I20190305/USD0842080-20190305/USD0842080-20190305-D00007.png \",\n",
    "    # \"I20190305/USD0842080-20190305/USD0842080-20190305-D00004.png \",\n",
    "    # \"I20190108/USD0837564-20190108/USD0837564-20190108-D00003.png \",\n",
    "    # \"I20190108/USD0837564-20190108/USD0837564-20190108-D00005.png \",\n",
    "    # \"I20180403/USD0814383-20180403/USD0814383-20180403-D00007.png \",\n",
    "    # \"I20180227/USD0811664-20180227/USD0811664-20180227-D00002.png \",\n",
    "    # \"I20180403/USD0814383-20180403/USD0814383-20180403-D00001.png \",\n",
    "    # \"I20180227/USD0811664-20180227/USD0811664-20180227-D00004.png \",\n",
    "    # \"I20180918/USD0828901-20180918/USD0828901-20180918-D00001.png \",\n",
    "    # \"I20180918/USD0828901-20180918/USD0828901-20180918-D00006.png \",\n",
    "    # \"I20180227/USD0811453-20180227/USD0811453-20180227-D00006.png \",\n",
    "]\n",
    "\n",
    "db_dataset = ImageList(img_list_path=DB_IMAGE_LIST_PATH, root=DATASET_ROOT)\n",
    "qry_dataset = ImageList(\n",
    "    img_list_path=DB_IMAGE_LIST_PATH,\n",
    "    root=DATASET_ROOT,\n",
    "    imgs=QRY_IMAGES,\n",
    ")"
   ]
  },
  {
   "cell_type": "code",
   "execution_count": 4,
   "id": "dbed4d04-b38c-4e71-9a36-145b705451f5",
   "metadata": {},
   "outputs": [
    {
     "name": "stdout",
     "output_type": "stream",
     "text": [
      "=> loading checkpoint '../checkpoints/PatentNet_Tri_GeM.pth.tar' (epoch 14)\n"
     ]
    }
   ],
   "source": [
    "net = load_model(\n",
    "    \"../checkpoints/PatentNet_Tri_GeM.pth.tar\",\n",
    "    iscuda=False,\n",
    "    arch=\"resnet50_rmac\",\n",
    "    image_size=256,\n",
    ")\n",
    "net.pca = None"
   ]
  },
  {
   "cell_type": "code",
   "execution_count": 9,
   "id": "778d5629-be21-4daf-8da3-0445943a5389",
   "metadata": {
    "tags": []
   },
   "outputs": [],
   "source": [
    "scores = compute_similarity_scores(\n",
    "    qry_images=qry_dataset,\n",
    "    db_images=db_dataset,\n",
    "    net=net,    \n",
    ")"
   ]
  },
  {
   "cell_type": "code",
   "execution_count": 10,
   "id": "631b67a6-5dc6-4ae0-8fc0-574528539b6d",
   "metadata": {},
   "outputs": [
    {
     "data": {
      "text/plain": [
       "array([0.97367686, 0.9721581 , 0.9780269 , 0.97243243, 0.9859974 ,\n",
       "       0.99034774, 0.9907635 , 0.99291074, 0.99068207, 0.9790989 ,\n",
       "       0.97579265, 0.9800336 , 0.9721981 , 0.97850233, 0.9765059 ,\n",
       "       0.97648406, 0.97619486, 0.9666216 , 0.97163135, 0.9689189 ,\n",
       "       0.9723658 , 0.96447253, 0.9514174 , 0.96525496, 0.97659814,\n",
       "       0.9787389 , 0.9736256 , 0.97062683, 0.99057686, 0.9913581 ,\n",
       "       0.98079526, 0.99704325, 0.98748636, 0.98102003, 0.9507427 ,\n",
       "       0.98111343], dtype=float32)"
      ]
     },
     "execution_count": 10,
     "metadata": {},
     "output_type": "execute_result"
    }
   ],
   "source": [
    "scores[0]"
   ]
  },
  {
   "cell_type": "code",
   "execution_count": 11,
   "id": "3a85e51c-2ccb-46fe-9ea2-454f7657393e",
   "metadata": {
    "tags": []
   },
   "outputs": [
    {
     "data": {
      "text/plain": [
       "array([[31,  7, 29,  6,  8, 28,  5, 32,  4, 35]], dtype=int64)"
      ]
     },
     "execution_count": 11,
     "metadata": {},
     "output_type": "execute_result"
    }
   ],
   "source": [
    "scores_idxs = []\n",
    "for q, _scores in enumerate(scores):\n",
    "    scores_idxs.append((-_scores).argsort())\n",
    "scores_idxs = np.vstack(scores_idxs)\n",
    "\n",
    "# Have the users precompute sorted indices\n",
    "scores_submit = scores_idxs[:, :10]\n",
    "scores_submit"
   ]
  },
  {
   "cell_type": "code",
   "execution_count": 12,
   "id": "9f1e4dcf-b7f5-4bae-8d3e-8cd9a8270548",
   "metadata": {},
   "outputs": [
    {
     "data": {
      "image/png": "[encoded data removed]",
      "text/plain": [
       "<Figure size 432x288 with 1 Axes>"
      ]
     },
     "metadata": {
      "needs_background": "light"
     },
     "output_type": "display_data"
    }
   ],
   "source": [
    "import matplotlib.pyplot as plt\n",
    "\n",
    "def read_img(dataset_root: str, rel_img_path: str) -> np.ndarray:\n",
    "    path_to_image = Path(dataset_root).joinpath(rel_img_path)\n",
    "    return cv2.imread(str(path_to_image))\n",
    "\n",
    "qry_idx = 0\n",
    "img = read_img(DATASET_ROOT, QRY_IMAGES[qry_idx])\n",
    "\n",
    "plt.title(QRY_IMAGES[qry_idx])\n",
    "plt.axis('off')\n",
    "_ = plt.imshow(img)"
   ]
  },
  {
   "cell_type": "code",
   "execution_count": 13,
   "id": "5d4b116e-f860-483b-8210-c9dcb48a94d2",
   "metadata": {},
   "outputs": [
    {
     "data": {
      "image/png": "[encoded data removed]",
      "text/plain": [
       "<Figure size 432x288 with 1 Axes>"
      ]
     },
     "metadata": {
      "needs_background": "light"
     },
     "output_type": "display_data"
    }
   ],
   "source": [
    "top_k = 0\n",
    "db_idx = scores_submit[qry_idx][top_k]\n",
    "img = read_img(DATASET_ROOT, db_dataset.imgs[db_idx])\n",
    "\n",
    "plt.title(db_dataset.imgs[db_idx])\n",
    "plt.axis('off')\n",
    "_ = plt.imshow(img)"
   ]
  },
  {
   "cell_type": "code",
   "execution_count": 14,
   "id": "0ca8637f-7164-4c12-8ce6-a216009322df",
   "metadata": {},
   "outputs": [
    {
     "data": {
      "text/plain": [
       "array([31,  7, 29,  6,  8, 28,  5, 32,  4, 35], dtype=int64)"
      ]
     },
     "execution_count": 14,
     "metadata": {},
     "output_type": "execute_result"
    }
   ],
   "source": [
    "scores_submit[0]"
   ]
  },
  {
   "cell_type": "code",
   "execution_count": null,
   "id": "edf9b341-b3ed-4bd9-a9c2-d56652843b16",
   "metadata": {},
   "outputs": [],
   "source": []
  }
 ],
 "metadata": {
  "canvas": {
   "colorPalette": [
    "inherit",
    "inherit",
    "inherit",
    "inherit",
    "inherit",
    "inherit",
    "inherit",
    "inherit",
    "inherit",
    "inherit"
   ],
   "parameters": [],
   "version": "1.0"
  },
  "kernelspec": {
   "display_name": "Python 3 (ipykernel)",
   "language": "python",
   "name": "python3"
  },
  "language_info": {
   "codemirror_mode": {
    "name": "ipython",
    "version": 3
   },
   "file_extension": ".py",
   "mimetype": "text/x-python",
   "name": "python",
   "nbconvert_exporter": "python",
   "pygments_lexer": "ipython3",
   "version": "3.9.12"
  }
 },
 "nbformat": 4,
 "nbformat_minor": 5
}
