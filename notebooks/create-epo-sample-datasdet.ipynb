{
 "cells": [
  {
   "cell_type": "code",
   "execution_count": 6,
   "id": "bcf0bbaa-04b8-4cd6-af1a-54870bcc72d2",
   "metadata": {},
   "outputs": [],
   "source": [
    "import pandas as pd\n",
    "from pathlib import Path\n",
    "\n",
    "path_to_db = \"../db/epo_samples/\"\n",
    "files = Path(path_to_db).glob(\"**/*.png\")\n",
    "files = [f.name for f in files]\n",
    "\n",
    "qry_files = [\"CN_202474956_U_input.png\"]\n",
    "\n",
    "db_files = [\n",
    "    f for f in files if f not in qry_files\n",
    "]\n",
    "\n",
    "with open(\"../data/epo_db_samples.txt\", \"w\") as f:\n",
    "    f.write(\"\\n\".join(db_files))\n",
    "\n",
    "with open(\"../data/epo_qry_samples.txt\", \"w\") as f:\n",
    "    f.write(\"\\n\".join(qry_files))"
   ]
  },
  {
   "cell_type": "code",
   "execution_count": null,
   "id": "cae9b841-659b-4063-b995-b1b2a0fe023d",
   "metadata": {},
   "outputs": [],
   "source": []
  }
 ],
 "metadata": {
  "kernelspec": {
   "display_name": "Python 3 (ipykernel)",
   "language": "python",
   "name": "python3"
  },
  "language_info": {
   "codemirror_mode": {
    "name": "ipython",
    "version": 3
   },
   "file_extension": ".py",
   "mimetype": "text/x-python",
   "name": "python",
   "nbconvert_exporter": "python",
   "pygments_lexer": "ipython3",
   "version": "3.9.12"
  }
 },
 "nbformat": 4,
 "nbformat_minor": 5
}
